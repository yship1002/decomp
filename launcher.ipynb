{
 "cells": [
  {
   "cell_type": "code",
   "execution_count": 3,
   "id": "5d02a48a",
   "metadata": {},
   "outputs": [
    {
     "data": {
      "application/vnd.jupyter.widget-view+json": {
       "model_id": "937c2efe1529494db61449171cf6cc72",
       "version_major": 2,
       "version_minor": 0
      },
      "text/plain": [
       "Dropdown(description='Select:', layout=Layout(width='50%'), options={'#node_vs_gap(all)': 'graphing/node_analy…"
      ]
     },
     "metadata": {},
     "output_type": "display_data"
    },
    {
     "data": {
      "application/vnd.jupyter.widget-view+json": {
       "model_id": "3bab872545b34f1c8b81c0f0315a7223",
       "version_major": 2,
       "version_minor": 0
      },
      "text/plain": [
       "Button(button_style='success', description='Launch Notebook', style=ButtonStyle())"
      ]
     },
     "metadata": {},
     "output_type": "display_data"
    },
    {
     "data": {
      "application/vnd.jupyter.widget-view+json": {
       "model_id": "4d7c7f3009c74726b18650638b4e0860",
       "version_major": 2,
       "version_minor": 0
      },
      "text/plain": [
       "Output()"
      ]
     },
     "metadata": {},
     "output_type": "display_data"
    }
   ],
   "source": [
    "import ipywidgets as widgets\n",
    "from IPython.display import display, Markdown\n",
    "\n",
    "# Define the notebook options\n",
    "notebooks = {\n",
    "    \"#node_vs_gap(all)\": \"graphing/node_analysis.ipynb\",\n",
    "    \"CZ_convergence_order(all)\": \"graphing/convergence_order_CZ.ipynb\",\n",
    "    \"LG_convergence_order(all)\": \"graphing/convergence_order_LG.ipynb\",\n",
    "    \"value_function(tanksize)\": \"graphing/value_function/tanksize.ipynb\",\n",
    "    \"value_function(crude_selection)\": \"graphing/value_function/crude_selection.ipynb\",\n",
    "    \"value_function(FLECCS)\": \"graphing/value_function/FLECCS.ipynb\",\n",
    "    \"value_function(pooling)\": \"graphing/value_function/pooling.ipynb\",\n",
    "    \"value_function(poutil)\": \"graphing/value_function/poutil.ipynb\",\n",
    "    \"value_function(process)\": \"graphing/value_function/process.ipynb\",\n",
    "    \"value_function(ex844)\": \"graphing/value_function/ex8_4_4.ipynb\",\n",
    "    \"LG_multiplier_perturbation\": \"graphing/LG_multiplier_perturbation.ipynb\"\n",
    "}\n",
    "\n",
    "dropdown = widgets.Dropdown(\n",
    "    options=notebooks,\n",
    "    description='Select:',\n",
    "    layout=widgets.Layout(width='50%')\n",
    ")\n",
    "\n",
    "button = widgets.Button(\n",
    "    description=\"Launch Notebook\",\n",
    "    button_style='success'\n",
    ")\n",
    "\n",
    "output = widgets.Output()\n",
    "def on_button_clicked(b):\n",
    "    selected_path = notebooks[dropdown.label]\n",
    "    voila_url = f\"voila/render/{selected_path}\"\n",
    "    with output:\n",
    "        output.clear_output()\n",
    "        display(Markdown(f\"[Click here to open {dropdown.label} notebook with Voila ➜]({voila_url})\"))\n",
    "\n",
    "button.on_click(on_button_clicked)\n",
    "\n",
    "display(dropdown, button, output)\n",
    "# Fix dropdown to use keys as values, not file paths\n",
    "dropdown.options = [(k, k) for k in notebooks.keys()]\n",
    "dropdown.value = list(notebooks.keys())[0]"
   ]
  }
 ],
 "metadata": {
  "kernelspec": {
   "display_name": "pyomo",
   "language": "python",
   "name": "python3"
  },
  "language_info": {
   "codemirror_mode": {
    "name": "ipython",
    "version": 3
   },
   "file_extension": ".py",
   "mimetype": "text/x-python",
   "name": "python",
   "nbconvert_exporter": "python",
   "pygments_lexer": "ipython3",
   "version": "3.12.2"
  }
 },
 "nbformat": 4,
 "nbformat_minor": 5
}
