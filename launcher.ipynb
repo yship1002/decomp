{
 "cells": [
  {
   "cell_type": "code",
   "execution_count": null,
   "id": "5d02a48a",
   "metadata": {},
   "outputs": [],
   "source": [
    "import ipywidgets as widgets\n",
    "from IPython.display import display, Markdown\n",
    "\n",
    "# Define the notebook options\n",
    "notebooks = {\n",
    "    \"node\": \"graphing/node_analysis.ipynb\",\n",
    "    \"convergence_order\": \"graphing/convergence_order.ipynb\",\n",
    "    \"value_function\": \"graphing/value_function/tanksize.ipynb\"\n",
    "}\n",
    "\n",
    "dropdown = widgets.Dropdown(\n",
    "    options=notebooks,\n",
    "    description='Select:',\n",
    "    layout=widgets.Layout(width='50%')\n",
    ")\n",
    "\n",
    "button = widgets.Button(\n",
    "    description=\"Launch Notebook\",\n",
    "    button_style='success'\n",
    ")\n",
    "\n",
    "output = widgets.Output()\n",
    "\n",
    "def on_button_clicked(b):\n",
    "    selected_path = notebooks[dropdown.label]\n",
    "    voila_url = f\"./{selected_path}\"\n",
    "    with output:\n",
    "        output.clear_output()\n",
    "        display(Markdown(f\"[Click here to open selected notebook ➜]({voila_url})\"))\n",
    "\n",
    "button.on_click(on_button_clicked)\n",
    "\n",
    "display(dropdown, button, output)\n"
   ]
  }
 ],
 "metadata": {
  "kernelspec": {
   "display_name": "pyomo",
   "language": "python",
   "name": "python3"
  },
  "language_info": {
   "name": "python",
   "version": "3.12.2"
  }
 },
 "nbformat": 4,
 "nbformat_minor": 5
}
