{
 "cells": [
  {
   "cell_type": "code",
   "execution_count": null,
   "id": "5d02a48a",
   "metadata": {},
   "outputs": [],
   "source": [
    "import ipywidgets as widgets\n",
    "from IPython.display import display, Markdown\n",
    "\n",
    "# Define the notebook options\n",
    "notebooks = {\n",
    "    \"#node_vs_gap(all)\": \"graphing/node_analysis.ipynb\",\n",
    "    \"CZ_convergence_order(all)\": \"graphing/convergence_order_CZ.ipynb\",\n",
    "    \"LG_convergence_order(all)\": \"graphing/convergence_order_LG.ipynb\",\n",
    "    \"value_function(tanksize)\": \"graphing/value_function/tanksize.ipynb\",\n",
    "    \"value_function(crude_selection)\": \"graphing/value_function/crude_selection.ipynb\",\n",
    "    \"value_function(FLECCS)\": \"graphing/value_function/FLECCS.ipynb\",\n",
    "    \"value_function(pooling)\": \"graphing/value_function/pooling.ipynb\",\n",
    "    \"value_function(poutil)\": \"graphing/value_function/poutil.ipynb\",\n",
    "    \"value_function(process)\": \"graphing/value_function/process.ipynb\",\n",
    "    \"value_function(ex844)\": \"graphing/value_function/ex8_4_4.ipynb\",\n",
    "    \"LG multiplier perturbation\": \"graphing/LG_multiplier_perturbation.ipynb\",\n",
    "}\n",
    "\n",
    "dropdown = widgets.Dropdown(\n",
    "    options=notebooks,\n",
    "    description='Select:',\n",
    "    layout=widgets.Layout(width='50%')\n",
    ")\n",
    "\n",
    "button = widgets.Button(\n",
    "    description=\"Launch Notebook\",\n",
    "    button_style='success'\n",
    ")\n",
    "\n",
    "output = widgets.Output()\n",
    "def on_button_clicked(b):\n",
    "    selected_path = notebooks[dropdown.value]\n",
    "    voila_url = f\"voila/render/{selected_path}\"\n",
    "    with output:\n",
    "        output.clear_output()\n",
    "        display(Markdown(f\"[Click here to open {dropdown.value} notebook with Voila ➜]({voila_url})\"))\n",
    "\n",
    "button.on_click(on_button_clicked)\n",
    "\n",
    "display(dropdown, button, output)\n"
   ]
  }
 ],
 "metadata": {
  "kernelspec": {
   "display_name": "pyomo",
   "language": "python",
   "name": "python3"
  },
  "language_info": {
   "name": "python",
   "version": "3.12.2"
  }
 },
 "nbformat": 4,
 "nbformat_minor": 5
}
