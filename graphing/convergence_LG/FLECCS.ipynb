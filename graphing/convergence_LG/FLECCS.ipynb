{
 "cells": [
  {
   "cell_type": "code",
   "execution_count": null,
   "id": "91c4fe30",
   "metadata": {},
   "outputs": [
    {
     "name": "stderr",
     "output_type": "stream",
     "text": [
      "Calculating the Hausdorff distances...\n",
      "\tdiameter = 1.0E-01, distance = 4.76E+06\n"
     ]
    }
   ],
   "source": [
    "from graphing.helper import convergence_analysis\n",
    "from src.models.lagrangean_model import LagrangeanModel, LagrangeanAlgo\n",
    "from NSPLIB.src.instances.FLECCS.src.pyomo_model.model import const_model\n",
    "fleccs_obj = -4.946928843629e+08  # Replace with actual value\n",
    "fleccs_sol = {'x_sorbent_total': 0.7571021770410511,'x_air_adsorb_max': 0.7567643358197031} \n",
    "fleccs_y_bound = {'x_sorbent_total': [0.0, 1.0],\"x_air_adsorb_max\": [0.0, 1.0]}\n",
    "n_day = 7\n",
    "week_diff = 52\n",
    "sto_m = const_model(n_day=n_day, week_diff=week_diff)\n",
    "m = LagrangeanModel.from_sto_m(sto_m)\n",
    "m.build()\n",
    "alg=LagrangeanAlgo(m,solver=\"baron\",lag_iter=200)\n",
    "convergence_analysis(alg,fleccs_sol,fleccs_obj,start=-4,stop=-1,steps=4,name=\"FLECCS\")\n",
    "print(\"FLECCS executed\")"
   ]
  }
 ],
 "metadata": {
  "kernelspec": {
   "display_name": "pyomo",
   "language": "python",
   "name": "python3"
  },
  "language_info": {
   "codemirror_mode": {
    "name": "ipython",
    "version": 3
   },
   "file_extension": ".py",
   "mimetype": "text/x-python",
   "name": "python",
   "nbconvert_exporter": "python",
   "pygments_lexer": "ipython3",
   "version": "3.12.2"
  }
 },
 "nbformat": 4,
 "nbformat_minor": 5
}
