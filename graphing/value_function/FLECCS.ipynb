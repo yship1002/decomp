{
 "cells": [
  {
   "cell_type": "code",
   "execution_count": null,
   "id": "fda55768",
   "metadata": {},
   "outputs": [],
   "source": [
    "from src.models.cz_model import CaoZavalaModel, CaoZavalaAlgo\n",
    "from NSPLIB.src.instances.FLECCS.src.pyomo_model.model import const_model\n",
    "from graphing.value_function.plotting import plotting\n",
    "# Constants\n",
    "fleccs_obj = -4.946928843629e+08  # Replace with actual value\n",
    "fleccs_sol = {'x_sorbent_total': 0.7571021770410511,'x_air_adsorb_max': 0.7567643358197031} \n",
    "fleccs_y_bound = {'x_sorbent_total': [0.7, 0.8],\"x_air_adsorb_max\": [0.7, 0.8]}\n",
    "n_day = 7\n",
    "week_diff = 52\n",
    "sto_m = const_model(n_day=n_day, week_diff=week_diff)\n",
    "m = CaoZavalaModel.from_sto_m(sto_m)\n",
    "m.build()\n",
    "y_dimension = {\n",
    "    'x_sorbent_total': {},\n",
    "    'x_air_adsorb_max': {}\n",
    "}\n",
    "plotting(m, 50, y_dimension, fleccs_sol, fleccs_y_bound, fleccs_obj)"
   ]
  }
 ],
 "metadata": {
  "kernelspec": {
   "display_name": "pyomo",
   "language": "python",
   "name": "python3"
  },
  "language_info": {
   "codemirror_mode": {
    "name": "ipython",
    "version": 3
   },
   "file_extension": ".py",
   "mimetype": "text/x-python",
   "name": "python",
   "nbconvert_exporter": "python",
   "pygments_lexer": "ipython3",
   "version": "3.12.2"
  }
 },
 "nbformat": 4,
 "nbformat_minor": 5
}
