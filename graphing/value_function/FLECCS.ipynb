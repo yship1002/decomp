{
 "cells": [
  {
   "cell_type": "code",
   "execution_count": 1,
   "id": "c31cc0de",
   "metadata": {},
   "outputs": [
    {
     "name": "stdout",
     "output_type": "stream",
     "text": [
      "3/3 points have been estimated...\r"
     ]
    }
   ],
   "source": [
    "import ipywidgets as widgets\n",
    "from IPython.display import display, clear_output\n",
    "from pyomo.opt import SolverFactory, TerminationCondition\n",
    "from src.analyses.value_function import ValueFunction\n",
    "from src.analyses.convergence_analysis import HausdorffAnalyzer\n",
    "import numpy as np\n",
    "import matplotlib.pyplot as plt\n",
    "from src.models.cz_model import CaoZavalaModel, CaoZavalaAlgo\n",
    "from scipy.optimize import curve_fit\n",
    "from NSPLIB.src.instances.FLECCS.src.pyomo_model.model import const_model\n",
    "fleccs_obj = -4.946928843629e+08  # Replace with actual value\n",
    "fleccs_sol = {'x_sorbent_total': 0.7571021770410511,'x_air_adsorb_max': 0.7567643358197031} \n",
    "fleccs_y_bound = {'x_sorbent_total': [0.0, 1.0],\"x_air_adsorb_max\": [0.0, 1.0]}\n",
    "\n",
    "n_day = 7\n",
    "week_diff = 52\n",
    "sto_m = const_model(n_day=n_day, week_diff=week_diff)\n",
    "m = CaoZavalaModel.from_sto_m(sto_m)\n",
    "m.build()\n",
    "v_f= ValueFunction(m,solver=\"scip\")\n",
    "y_dimension = {'x_sorbent_total':{}, 'x_air_adsorb_max':{}}\n",
    "\n",
    "for y in fleccs_y_bound:\n",
    "    v_f.calc_1D(idx=y, y_val_fix=fleccs_sol,\n",
    "                    interval= fleccs_y_bound[y], step = 3)\n",
    "    for s in m.scenarios:\n",
    "        y_dimension[y][s] = v_f.value_func[s]\n",
    "    y_dimension[y]['total'] = v_f.total_value_func\n",
    "\n",
    "\n",
    "# Specify grid dimensions\n",
    "n_rows, n_cols = len(y_dimension), len(m.scenarios) + 1\n",
    "\n",
    "# Create a grid of Output widgets for the plots\n",
    "outputs = [[widgets.Output() for _ in range(n_cols)] for _ in range(n_rows)]\n",
    "\n",
    "# Example: fill each plot with random data (replace with your actual data as needed)\n",
    "for i in range(n_rows):\n",
    "    for j in range(n_cols):\n",
    "        with outputs[i][j]:\n",
    "            x = np.linspace(0, 1, 3)\n",
    "            y = y_dimension[list(y_dimension.keys())[i]][list(m.scenarios.keys())[j]]\n",
    "            ax.plot(x, y)\n",
    "            ax.set_title(f\"Plot {i*n_cols + j + 1}\")\n",
    "            plt.show()\n",
    "\n",
    "# Arrange the outputs in a grid\n",
    "grid = widgets.GridBox(\n",
    "    [outputs[i][j] for i in range(n_rows) for j in range(n_cols)],\n",
    "    layout=widgets.Layout(grid_template_columns=f\"repeat({n_cols}, 400px)\")\n",
    ")\n",
    "\n",
    "display(grid)"
   ]
  },
  {
   "cell_type": "code",
   "execution_count": 6,
   "id": "af9b862e",
   "metadata": {},
   "outputs": [
    {
     "data": {
      "application/vnd.jupyter.widget-view+json": {
       "model_id": "438fd14f345f45e594f55354da175978",
       "version_major": 2,
       "version_minor": 0
      },
      "text/plain": [
       "GridBox(children=(Output(), Output(), Output(), Output()), layout=Layout(grid_template_columns='repeat(2, 400p…"
      ]
     },
     "metadata": {},
     "output_type": "display_data"
    }
   ],
   "source": [
    "import bqplot as bq\n",
    "import ipywidgets as widgets\n",
    "import numpy as np\n",
    "\n",
    "# Create a grid of Output widgets\n",
    "outputs = [[widgets.Output() for _ in range(2)] for _ in range(2)]\n",
    "\n",
    "for i in range(2):\n",
    "    for j in range(2):\n",
    "        with outputs[i][j]:\n",
    "            x_sc = bq.LinearScale()\n",
    "            y_sc = bq.LinearScale()\n",
    "            x = np.arange(10)\n",
    "            y = np.random.rand(10)\n",
    "            line = bq.Lines(x=x, y=y, scales={'x': x_sc, 'y': y_sc})\n",
    "            ax_x = bq.Axis(scale=x_sc, label='x')\n",
    "            ax_y = bq.Axis(scale=y_sc, orientation='vertical', label='y')\n",
    "            fig = bq.Figure(marks=[line], axes=[ax_x, ax_y], title=f\"Plot {i*2 + j + 1}\")\n",
    "            display(fig)\n",
    "\n",
    "# Arrange the outputs in a grid\n",
    "grid = widgets.GridBox(\n",
    "    [outputs[i][j] for i in range(2) for j in range(2)],\n",
    "    layout=widgets.Layout(grid_template_columns=\"repeat(2, 400px)\")\n",
    ")\n",
    "\n",
    "display(grid)"
   ]
  }
 ],
 "metadata": {
  "kernelspec": {
   "display_name": "pyomo",
   "language": "python",
   "name": "python3"
  },
  "language_info": {
   "codemirror_mode": {
    "name": "ipython",
    "version": 3
   },
   "file_extension": ".py",
   "mimetype": "text/x-python",
   "name": "python",
   "nbconvert_exporter": "python",
   "pygments_lexer": "ipython3",
   "version": "3.12.2"
  }
 },
 "nbformat": 4,
 "nbformat_minor": 5
}
