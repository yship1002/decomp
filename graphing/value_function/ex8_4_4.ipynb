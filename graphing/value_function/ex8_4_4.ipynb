{
 "cells": [
  {
   "cell_type": "code",
   "execution_count": 1,
   "id": "cce187e9",
   "metadata": {},
   "outputs": [
    {
     "data": {
      "application/vnd.jupyter.widget-view+json": {
       "model_id": "c4b1f3bb42f84bb6ac72157c319680c9",
       "version_major": 2,
       "version_minor": 0
      },
      "text/plain": [
       "GridBox(children=(Output(), Output(), Output(), Output(), Output(), Output(), Output(), Output(), Output(), Ou…"
      ]
     },
     "metadata": {},
     "output_type": "display_data"
    }
   ],
   "source": [
    "import ipywidgets as widgets\n",
    "from IPython.display import display, clear_output\n",
    "from pyomo.opt import SolverFactory, TerminationCondition\n",
    "from src.analyses.value_function import ValueFunction\n",
    "from src.analyses.convergence_analysis import HausdorffAnalyzer\n",
    "import numpy as np\n",
    "import matplotlib.pyplot as plt\n",
    "from src.models.cz_model import CaoZavalaModel, CaoZavalaAlgo\n",
    "from scipy.optimize import curve_fit\n",
    "from NSPLIB.src.instances.ex8_4_4.ex8_4_4_SP import const_model\n",
    "import copy\n",
    "# Constants\n",
    "ex844_obj= 0.33272388311799445\n",
    "ex844_sol = {\n",
    "    'x10': -0.23129676903369037, 'x11': 1.2249985914391361, 'x12': 0.05263738880099749, 'x13': 0.5614202118628403,\n",
    "    'x14': 0.6217131656002401, 'x15': 1.1, 'x16': 0.806868640168786, 'x17': 0.663161467338442, 'x6': -1.1370129865018144,\n",
    "    'x7': 1.5979758364259327, 'x8': -0.5986905053355759, 'x9': 1.372365581205024\n",
    "}\n",
    "ex844_y_bound = {\n",
    "    'x10': [-1.2, 0.8], 'x11': [0.1, 2.1], 'x12': [-1.1, 0.9], 'x13': [0, 1],\n",
    "    'x14': [0, 1], 'x15': [1.1, 1.3], 'x16': [0, 1], 'x17': [0, 1],\n",
    "    'x6': [-2, 0], 'x7': [0.5, 2.5], 'x8': [-1.5, 0.5], 'x9': [0.2, 2.2]\n",
    "}\n",
    "ex844_y_bound = {\n",
    "    'x10': [-0.25, -0.2], 'x11': [1.2, 1.24], 'x12': [0.05, 0.06], 'x13': [0.5, 0.6],\n",
    "    'x14': [0.6, 0.7], 'x15': [1.1, 1.11], 'x16': [0.8, 0.85], 'x17': [0.6, 0.7],\n",
    "    'x6': [-1.15, -1.1], 'x7': [1.55, 1.65], 'x8': [-0.7, -0.5], 'x9': [1.3, 1.4]\n",
    "}\n",
    "# Build model\n",
    "sto_m = const_model()\n",
    "m = CaoZavalaModel.from_sto_m(sto_m)\n",
    "m.build()\n",
    "\n",
    "v_f= ValueFunction(m,solver=\"baron\")\n",
    "y_dimension = {\n",
    "    'x10': {}, 'x11': {}, 'x12': {}, 'x13': {},\n",
    "    'x14': {}, 'x15': {}, 'x16': {}, 'x17': {},\n",
    "    'x6': {}, 'x7': {}, 'x8': {}, 'x9': {}\n",
    "}\n",
    "steps=20\n",
    "for y in y_dimension.keys():\n",
    "    v_f.calc_1D(idx=y, y_val_fix=copy.deepcopy(ex844_sol),\n",
    "                    interval=ex844_y_bound[y], step=steps)\n",
    "    for s in m.scenarios:\n",
    "        y_dimension[y][s] = v_f.value_func[s]\n",
    "    y_dimension[y]['total'] = v_f.total_value_func\n",
    "\n",
    "\n",
    "# Specify grid dimensions\n",
    "n_rows = len(y_dimension)\n",
    "n_cols = len(m.scenarios) + 1  # +1 for 'total'\n",
    "\n",
    "# Create a grid of Output widgets for the plots\n",
    "outputs = [[widgets.Output() for _ in range(n_cols)] for _ in range(n_rows)]\n",
    "\n",
    "# Fill each plot with the corresponding value function data\n",
    "for i, y_key in enumerate(y_dimension.keys()):\n",
    "    for j in range(n_cols):\n",
    "        with outputs[i][j]:\n",
    "            x = np.linspace(ex844_y_bound[y_key][0], ex844_y_bound[y_key][1], len(y_dimension[y_key]['total']))\n",
    "            if j < len(m.scenarios):\n",
    "                scenario_key = list(m.scenarios)[j]\n",
    "                y_vals = y_dimension[y_key][scenario_key]\n",
    "                title = f\"{y_key} - Scenario {scenario_key}\"\n",
    "            else:\n",
    "                y_vals = y_dimension[y_key]['total']\n",
    "                title = f\"{y_key} - Total\"\n",
    "            fig, ax = plt.subplots(figsize=(4,4))\n",
    "            ax.plot(x, y_vals,marker=\"o\")\n",
    "            ax.set_title(title)\n",
    "            ax.set_xlabel(y_key)\n",
    "            ax.set_ylabel(\"Objective Value\")\n",
    "            ax.tick_params(axis='both', labelsize=14)\n",
    "            ax.xaxis.label.set_size(16)\n",
    "            ax.yaxis.label.set_size(16)\n",
    "            ax.title.set_size(18)\n",
    "            plt.tight_layout()\n",
    "            plt.show()\n",
    "\n",
    "# Arrange the outputs in a grid\n",
    "grid = widgets.GridBox(\n",
    "    [outputs[i][j] for i in range(n_rows) for j in range(n_cols)],\n",
    "    layout=widgets.Layout(grid_template_columns=f\"repeat({n_cols}, 400px)\")\n",
    ")\n",
    "\n",
    "display(grid)"
   ]
  }
 ],
 "metadata": {
  "kernelspec": {
   "display_name": "base",
   "language": "python",
   "name": "python3"
  },
  "language_info": {
   "codemirror_mode": {
    "name": "ipython",
    "version": 3
   },
   "file_extension": ".py",
   "mimetype": "text/x-python",
   "name": "python",
   "nbconvert_exporter": "python",
   "pygments_lexer": "ipython3",
   "version": "3.11.7"
  }
 },
 "nbformat": 4,
 "nbformat_minor": 5
}
