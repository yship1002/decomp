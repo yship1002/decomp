{
 "cells": [
  {
   "cell_type": "code",
   "execution_count": 1,
   "id": "61f865e6",
   "metadata": {},
   "outputs": [
    {
     "name": "stdout",
     "output_type": "stream",
     "text": [
      "10/10 points have been estimated...\r"
     ]
    },
    {
     "data": {
      "application/vnd.jupyter.widget-view+json": {
       "model_id": "e43eab6784284a51853cd394d0077d7d",
       "version_major": 2,
       "version_minor": 0
      },
      "text/plain": [
       "GridBox(children=(Output(), Output(), Output(), Output(), Output(), Output(), Output(), Output(), Output(), Ou…"
      ]
     },
     "metadata": {},
     "output_type": "display_data"
    }
   ],
   "source": [
    "import ipywidgets as widgets\n",
    "from IPython.display import display, clear_output\n",
    "from pyomo.opt import SolverFactory, TerminationCondition\n",
    "from src.analyses.value_function import ValueFunction\n",
    "from src.analyses.convergence_analysis import HausdorffAnalyzer\n",
    "import numpy as np\n",
    "import matplotlib.pyplot as plt\n",
    "from src.models.cz_model import CaoZavalaModel, CaoZavalaAlgo\n",
    "from scipy.optimize import curve_fit\n",
    "from NSPLIB.src.instances.pooling_contract_selection.pooling import const_model\n",
    "\n",
    "# Constants\n",
    "pooling_obj = -1338.2471283376406\n",
    "pooling_sol = {\n",
    "    'A[1]': 300.0, 'A[2]': 201.92127476313524, 'A[3]': 0.0, 'A[4]': 0.0, 'A[5]': 245.18105081826008,\n",
    "    'S[1]': 247.10232558139526, 'S[2]': 0.0, 'S[3]': 0.0, 'S[4]': 500.0\n",
    "}\n",
    "\n",
    "pooling_y_bound = {\n",
    "    'A[1]': [0, 300], 'A[2]': [0, 250], 'A[3]': [0, 0], 'A[4]': [0, 0], 'A[5]': [0, 300],\n",
    "    'S[1]': [0, 400], 'S[2]': [0, 0], 'S[3]': [0, 0], 'S[4]': [0, 500]\n",
    "}\n",
    "pooling_y_bound = {\n",
    "    'A[1]': [290, 300], 'A[2]': [190, 210], 'A[3]': [0, 0], 'A[4]': [0, 0], 'A[5]': [240, 260],\n",
    "    'S[1]': [230, 250], 'S[2]': [0, 0], 'S[3]': [0, 0], 'S[4]': [490, 500]\n",
    "}\n",
    "# Build model\n",
    "sto_m = const_model()\n",
    "m = CaoZavalaModel.from_sto_m(sto_m)\n",
    "m.build()\n",
    "\n",
    "# Fix binary variables\n",
    "binary_ys = ['lambd[1]', 'lambd[2]', 'lambd[3]', 'lambd[4]', 'lambd[5]', 'theta[1]', 'theta[2]', 'theta[3]', 'theta[4]']\n",
    "binary_y_val = {y: 0 for y in binary_ys}\n",
    "binary_y_val['lambd[1]'] = 1\n",
    "binary_y_val['lambd[2]'] = 1\n",
    "binary_y_val['lambd[5]'] = 1\n",
    "binary_y_val['theta[1]'] = 1\n",
    "binary_y_val['theta[4]'] = 1\n",
    "m.fix_binary_y(binary_y_val)\n",
    "\n",
    "v_f= ValueFunction(m,solver=\"baron\")\n",
    "y_dimension = {'A[1]':{}, 'A[2]':{}, 'A[5]':{},'S[1]':{}, 'S[4]':{}}\n",
    "steps=10\n",
    "for y in y_dimension.keys():\n",
    "    v_f.calc_1D(idx=y, y_val_fix=pooling_sol,\n",
    "                    interval=pooling_y_bound[y], step=steps)\n",
    "    for s in m.scenarios:\n",
    "        y_dimension[y][s] = v_f.value_func[s]\n",
    "    y_dimension[y]['total'] = v_f.total_value_func\n",
    "\n",
    "\n",
    "# Specify grid dimensions\n",
    "n_rows = len(y_dimension)\n",
    "n_cols = len(m.scenarios) + 1  # +1 for 'total'\n",
    "\n",
    "# Create a grid of Output widgets for the plots\n",
    "outputs = [[widgets.Output() for _ in range(n_cols)] for _ in range(n_rows)]\n",
    "\n",
    "# Fill each plot with the corresponding value function data\n",
    "for i, y_key in enumerate(y_dimension.keys()):\n",
    "    for j in range(n_cols):\n",
    "        with outputs[i][j]:\n",
    "            x = np.linspace(pooling_y_bound[y_key][0], pooling_y_bound[y_key][1], len(y_dimension[y_key]['total']))\n",
    "            if j < len(m.scenarios):\n",
    "                scenario_key = list(m.scenarios)[j]\n",
    "                y_vals = y_dimension[y_key][scenario_key]\n",
    "                title = f\"{y_key} - Scenario {scenario_key}\"\n",
    "            else:\n",
    "                y_vals = y_dimension[y_key]['total']\n",
    "                title = f\"{y_key} - Total\"\n",
    "            fig, ax = plt.subplots(figsize=(4,4))\n",
    "            ax.plot(x, y_vals)\n",
    "            ax.set_title(title)\n",
    "            ax.set_xlabel(y_key)\n",
    "            ax.set_ylabel(\"Objective Value\")\n",
    "            ax.tick_params(axis='both', labelsize=14)\n",
    "            ax.xaxis.label.set_size(16)\n",
    "            ax.yaxis.label.set_size(16)\n",
    "            ax.title.set_size(18)\n",
    "            plt.tight_layout()\n",
    "            plt.show()\n",
    "\n",
    "# Arrange the outputs in a grid\n",
    "grid = widgets.GridBox(\n",
    "    [outputs[i][j] for i in range(n_rows) for j in range(n_cols)],\n",
    "    layout=widgets.Layout(grid_template_columns=f\"repeat({n_cols}, 400px)\")\n",
    ")\n",
    "\n",
    "display(grid)"
   ]
  }
 ],
 "metadata": {
  "kernelspec": {
   "display_name": "pyomo",
   "language": "python",
   "name": "python3"
  },
  "language_info": {
   "codemirror_mode": {
    "name": "ipython",
    "version": 3
   },
   "file_extension": ".py",
   "mimetype": "text/x-python",
   "name": "python",
   "nbconvert_exporter": "python",
   "pygments_lexer": "ipython3",
   "version": "3.12.2"
  }
 },
 "nbformat": 4,
 "nbformat_minor": 5
}
