{
 "cells": [
  {
   "cell_type": "code",
   "execution_count": 1,
   "id": "131a445b",
   "metadata": {},
   "outputs": [
    {
     "name": "stdout",
     "output_type": "stream",
     "text": [
      "10/10 points have been estimated...\r"
     ]
    },
    {
     "data": {
      "application/vnd.jupyter.widget-view+json": {
       "model_id": "a181e1e555214ab0beb0b2c8ff84dfa1",
       "version_major": 2,
       "version_minor": 0
      },
      "text/plain": [
       "GridBox(children=(Output(), Output(), Output(), Output(), Output(), Output(), Output(), Output(), Output(), Ou…"
      ]
     },
     "metadata": {},
     "output_type": "display_data"
    }
   ],
   "source": [
    "import ipywidgets as widgets\n",
    "from IPython.display import display, clear_output\n",
    "from pyomo.opt import SolverFactory, TerminationCondition\n",
    "from src.analyses.value_function import ValueFunction\n",
    "from src.analyses.convergence_analysis import HausdorffAnalyzer\n",
    "import numpy as np\n",
    "import matplotlib.pyplot as plt\n",
    "from src.models.cz_model import CaoZavalaModel, CaoZavalaAlgo\n",
    "from scipy.optimize import curve_fit\n",
    "from NSPLIB.src.instances.tanksize.tanksize import const_model\n",
    "tanksize_obj = 0.9030394623070541\n",
    "tanksize_sol = {\"productTankSize[1]\": 659.2053849850757, \"productTankSize[2]\": 552.3954188143167, \"productTankSize[3]\": 225.73997707963284}\n",
    "tanksize_y_bound = {\"productTankSize[1]\": [643, 4018.36], \"productTankSize[2]\": [536, 3348], \"productTankSize[3]\": [214, 1339.45]}\n",
    "tanksize_y_bound = {\"productTankSize[1]\": [643, 670], \"productTankSize[2]\": [536, 560], \"productTankSize[3]\": [214, 230]}\n",
    "sto_m = const_model()\n",
    "m = CaoZavalaModel.from_sto_m(sto_m)\n",
    "m.build()\n",
    "\n",
    "v_f= ValueFunction(m,solver=\"baron\")\n",
    "y_dimension = {'productTankSize[1]':{}, 'productTankSize[2]':{}, 'productTankSize[3]':{}}\n",
    "steps=10\n",
    "for y in tanksize_y_bound:\n",
    "    v_f.calc_1D(idx=y, y_val_fix=tanksize_sol,\n",
    "                    interval= tanksize_y_bound[y], step = steps)\n",
    "    for s in m.scenarios:\n",
    "        y_dimension[y][s] = v_f.value_func[s]\n",
    "    y_dimension[y]['total'] = v_f.total_value_func\n",
    "\n",
    "\n",
    "# Specify grid dimensions\n",
    "n_rows = len(y_dimension)\n",
    "n_cols = len(m.scenarios) + 1  # +1 for 'total'\n",
    "\n",
    "# Create a grid of Output widgets for the plots\n",
    "outputs = [[widgets.Output() for _ in range(n_cols)] for _ in range(n_rows)]\n",
    "\n",
    "# Fill each plot with the corresponding value function data\n",
    "for i, y_key in enumerate(y_dimension.keys()):\n",
    "    for j in range(n_cols):\n",
    "        with outputs[i][j]:\n",
    "            x = np.linspace(tanksize_y_bound[y_key][0], tanksize_y_bound[y_key][1], len(y_dimension[y_key]['total']))\n",
    "            if j < len(m.scenarios):\n",
    "                scenario_key = list(m.scenarios)[j]\n",
    "                y_vals = y_dimension[y_key][scenario_key]\n",
    "                title = f\"{y_key} - Scenario {scenario_key}\"\n",
    "            else:\n",
    "                y_vals = y_dimension[y_key]['total']\n",
    "                title = f\"{y_key} - Total\"\n",
    "            fig, ax = plt.subplots(figsize=(4,4))\n",
    "            ax.plot(x, y_vals, marker='o')\n",
    "            ax.set_title(title)\n",
    "            ax.set_xlabel(y_key)\n",
    "            ax.set_ylabel(\"Value\")\n",
    "            plt.tight_layout()\n",
    "            plt.show()\n",
    "\n",
    "# Arrange the outputs in a grid\n",
    "grid = widgets.GridBox(\n",
    "    [outputs[i][j] for i in range(n_rows) for j in range(n_cols)],\n",
    "    layout=widgets.Layout(grid_template_columns=f\"repeat({n_cols}, 400px)\")\n",
    ")\n",
    "\n",
    "display(grid)"
   ]
  }
 ],
 "metadata": {
  "kernelspec": {
   "display_name": "pyomo",
   "language": "python",
   "name": "python3"
  },
  "language_info": {
   "codemirror_mode": {
    "name": "ipython",
    "version": 3
   },
   "file_extension": ".py",
   "mimetype": "text/x-python",
   "name": "python",
   "nbconvert_exporter": "python",
   "pygments_lexer": "ipython3",
   "version": "3.12.2"
  }
 },
 "nbformat": 4,
 "nbformat_minor": 5
}
