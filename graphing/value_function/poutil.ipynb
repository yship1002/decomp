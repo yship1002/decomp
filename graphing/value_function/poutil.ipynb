{
 "cells": [
  {
   "cell_type": "code",
   "execution_count": 1,
   "id": "d54ae0aa",
   "metadata": {},
   "outputs": [
    {
     "data": {
      "application/vnd.jupyter.widget-view+json": {
       "model_id": "37d8e5d0dd404e8f850c152f101a38b2",
       "version_major": 2,
       "version_minor": 0
      },
      "text/plain": [
       "GridBox(children=(Output(), Output(), Output(), Output(), Output(), Output(), Output(), Output()), layout=Layo…"
      ]
     },
     "metadata": {},
     "output_type": "display_data"
    }
   ],
   "source": [
    "import ipywidgets as widgets\n",
    "from IPython.display import display, clear_output\n",
    "from pyomo.opt import SolverFactory, TerminationCondition\n",
    "from src.analyses.value_function import ValueFunction\n",
    "from src.analyses.convergence_analysis import HausdorffAnalyzer\n",
    "import numpy as np\n",
    "import matplotlib.pyplot as plt\n",
    "from src.models.cz_model import CaoZavalaModel, CaoZavalaAlgo\n",
    "from scipy.optimize import curve_fit\n",
    "from NSPLIB.src.instances.poutil.poutil_SP import const_model\n",
    "import copy\n",
    "# Constants\n",
    "poutil_obj = 266187.5332404778  # Replace with actual value\n",
    "poutil_sol = {'alpha': 74.94473247856709, 'beta': 9.000000000000028}  \n",
    "poutil_y_bound = {'alpha': [0.0, 470], 'beta': [0.0, 470]}  \n",
    "poutil_y_bound = {'alpha': [74.5, 75.5], 'beta': [8.9, 9.1]}  # Adjusted bounds for better visualization\n",
    "# Build model\n",
    "sto_m = const_model()\n",
    "m = CaoZavalaModel.from_sto_m(sto_m)\n",
    "m.build()\n",
    "\n",
    "v_f= ValueFunction(m,solver=\"baron\")\n",
    "y_dimension = {\n",
    "    'alpha': {}, 'beta': {}\n",
    "}\n",
    "steps=20\n",
    "for y in y_dimension.keys():\n",
    "    v_f.calc_1D(idx=y, y_val_fix=copy.deepcopy(poutil_sol),\n",
    "                    interval=poutil_y_bound[y], step=steps)\n",
    "    for s in m.scenarios:\n",
    "        y_dimension[y][s] = v_f.value_func[s]\n",
    "    y_dimension[y]['total'] = v_f.total_value_func\n",
    "\n",
    "\n",
    "# Specify grid dimensions\n",
    "n_rows = len(y_dimension)\n",
    "n_cols = len(m.scenarios) + 1  # +1 for 'total'\n",
    "\n",
    "# Create a grid of Output widgets for the plots\n",
    "outputs = [[widgets.Output() for _ in range(n_cols)] for _ in range(n_rows)]\n",
    "\n",
    "# Fill each plot with the corresponding value function data\n",
    "for i, y_key in enumerate(y_dimension.keys()):\n",
    "    for j in range(n_cols):\n",
    "        with outputs[i][j]:\n",
    "            x = np.linspace(poutil_y_bound[y_key][0], poutil_y_bound[y_key][1], len(y_dimension[y_key]['total']))\n",
    "            if j < len(m.scenarios):\n",
    "                scenario_key = list(m.scenarios)[j]\n",
    "                y_vals = y_dimension[y_key][scenario_key]\n",
    "                title = f\"{y_key} - Scenario {scenario_key}\"\n",
    "            else:\n",
    "                y_vals = y_dimension[y_key]['total']\n",
    "                title = f\"{y_key} - Total\"\n",
    "            fig, ax = plt.subplots(figsize=(4,4))\n",
    "            ax.plot(x, y_vals,marker=\"o\")\n",
    "            ax.set_title(title)\n",
    "            ax.set_xlabel(y_key)\n",
    "            ax.set_ylabel(\"Objective Value\")\n",
    "            ax.tick_params(axis='both', labelsize=14)\n",
    "            ax.xaxis.label.set_size(16)\n",
    "            ax.yaxis.label.set_size(16)\n",
    "            ax.title.set_size(18)\n",
    "            plt.tight_layout()\n",
    "            plt.show()\n",
    "\n",
    "# Arrange the outputs in a grid\n",
    "grid = widgets.GridBox(\n",
    "    [outputs[i][j] for i in range(n_rows) for j in range(n_cols)],\n",
    "    layout=widgets.Layout(grid_template_columns=f\"repeat({n_cols}, 400px)\")\n",
    ")\n",
    "\n",
    "display(grid)"
   ]
  }
 ],
 "metadata": {
  "kernelspec": {
   "display_name": "pyomo",
   "language": "python",
   "name": "python3"
  },
  "language_info": {
   "codemirror_mode": {
    "name": "ipython",
    "version": 3
   },
   "file_extension": ".py",
   "mimetype": "text/x-python",
   "name": "python",
   "nbconvert_exporter": "python",
   "pygments_lexer": "ipython3",
   "version": "3.12.2"
  }
 },
 "nbformat": 4,
 "nbformat_minor": 5
}
