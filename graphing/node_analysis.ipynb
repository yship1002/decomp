{
 "cells": [
  {
   "cell_type": "code",
   "execution_count": 1,
   "id": "67a5dbe8",
   "metadata": {},
   "outputs": [
    {
     "data": {
      "application/vnd.jupyter.widget-view+json": {
       "model_id": "a3a08ebe1d1a4f068c927e50b7678233",
       "version_major": 2,
       "version_minor": 0
      },
      "text/plain": [
       "Dropdown(description='Select Case:', layout=Layout(width='50%'), options={'FLECCS': 'data/FLECCS.pkl', 'poutil…"
      ]
     },
     "metadata": {},
     "output_type": "display_data"
    },
    {
     "data": {
      "application/vnd.jupyter.widget-view+json": {
       "model_id": "bc646e3ab19c4360a874986ed9d13b89",
       "version_major": 2,
       "version_minor": 0
      },
      "text/plain": [
       "Output()"
      ]
     },
     "metadata": {},
     "output_type": "display_data"
    }
   ],
   "source": [
    "import dill\n",
    "import ipywidgets as widgets\n",
    "from IPython.display import display, clear_output\n",
    "import matplotlib.pyplot as plt\n",
    "\n",
    "# File path list\n",
    "path_list = {\n",
    "    'FLECCS': 'data/FLECCS.pkl',\n",
    "    'poutil': 'data/poutil.pkl',\n",
    "    'ex8_4_4': 'data/ex8_4_4.pkl',\n",
    "    'crude_selection': 'data/crude_selection.pkl',\n",
    "    'pooling': 'data/pooling.pkl',\n",
    "    'process': 'data/process.pkl',\n",
    "    'tanksize': 'data/tanksize.pkl'\n",
    "}\n",
    "\n",
    "# Dropdown widget with default value\n",
    "dropdown = widgets.Dropdown(\n",
    "    options=path_list,\n",
    "    value=path_list['FLECCS'],  # Set default value here\n",
    "    description='Select Case:',\n",
    "    layout=widgets.Layout(width='50%')\n",
    ")\n",
    "\n",
    "# Output area\n",
    "out = widgets.Output()\n",
    "\n",
    "# Callback function\n",
    "def on_change(change):\n",
    "    if change['type'] == 'change' and change['name'] == 'value':\n",
    "        out.clear_output()\n",
    "        with out:\n",
    "            try:\n",
    "                with open(change['new'], 'rb') as f:\n",
    "                    data = dill.load(f)\n",
    "                print(f\"Loaded: {change['new']}\")\n",
    "                data.res.plot_bb_n_gap(\"loglog\")\n",
    "                plt.show()\n",
    "            except Exception as e:\n",
    "                print(\"Error loading or plotting:\", e)\n",
    "\n",
    "# Attach callback\n",
    "dropdown.observe(on_change)\n",
    "\n",
    "# Display widgets\n",
    "display(dropdown, out)\n",
    "\n",
    "# Trigger the callback manually for the default value\n",
    "on_change({'type': 'change', 'name': 'value', 'new': dropdown.value})\n"
   ]
  }
 ],
 "metadata": {
  "kernelspec": {
   "display_name": "pyomo",
   "language": "python",
   "name": "python3"
  },
  "language_info": {
   "codemirror_mode": {
    "name": "ipython",
    "version": 3
   },
   "file_extension": ".py",
   "mimetype": "text/x-python",
   "name": "python",
   "nbconvert_exporter": "python",
   "pygments_lexer": "ipython3",
   "version": "3.12.2"
  }
 },
 "nbformat": 4,
 "nbformat_minor": 5
}
