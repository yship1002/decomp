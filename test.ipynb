{
 "cells": [
  {
   "cell_type": "code",
   "execution_count": 1,
   "id": "fe58ae20",
   "metadata": {},
   "outputs": [],
   "source": [
    "import dill\n",
    "import matplotlib.pyplot as plt\n",
    "# Compute number of all child nodes for each node and categorize by level\n",
    "\n",
    "def count_all_children(node):\n",
    "    \"\"\"Recursively count all descendant nodes (children, grandchildren, etc.) for a given node.\"\"\"\n",
    "    if node.left is None and node.right is None:\n",
    "        return 0\n",
    "    count = 0\n",
    "    if node.left is not None:\n",
    "        count += 1 + count_all_children(node.left)\n",
    "    if node.right is not None:\n",
    "        count += 1 + count_all_children(node.right)\n",
    "    return count\n",
    "\n",
    "def get_node_level(node, current_level=0, level_dict=None):\n",
    "    \"\"\"Recursively assign nodes to their level in the tree.\"\"\"\n",
    "    if level_dict is None:\n",
    "        level_dict = {}\n",
    "    if current_level not in level_dict:\n",
    "        level_dict[current_level] = []\n",
    "    level_dict[current_level].append(node)\n",
    "    if node.left is not None:\n",
    "        get_node_level(node.left, current_level + 1, level_dict)\n",
    "    if node.right is not None:\n",
    "        get_node_level(node.right, current_level + 1, level_dict)\n",
    "    return level_dict\n"
   ]
  },
  {
   "cell_type": "code",
   "execution_count": 45,
   "id": "97c176d7",
   "metadata": {},
   "outputs": [
    {
     "data": {
      "text/plain": [
       "[<matplotlib.lines.Line2D at 0x148222bd0>]"
      ]
     },
     "execution_count": 45,
     "metadata": {},
     "output_type": "execute_result"
    },
    {
     "data": {
      "image/png": "[encoded data removed]",
      "text/plain": [
       "<Figure size 640x480 with 1 Axes>"
      ]
     },
     "metadata": {},
     "output_type": "display_data"
    }
   ],
   "source": [
    "ratio=np.linspace(1,10,10)\n",
    "eps=8.6*ratio\n",
    "y=[]\n",
    "nodes=[]\n",
    "for j in eps:\n",
    "    for i in data.res.abs_gaps:\n",
    "        if i<j:\n",
    "            y.append(i)\n",
    "            nodes.append(data.res.bb_n[data.res.abs_gaps.index(i)])\n",
    "            break\n",
    "diff_y=[]\n",
    "diff_nodes=[]\n",
    "for idx,i in enumerate(y):\n",
    "    if idx<len(y)-1:\n",
    "        diff_nodes.append(abs(nodes[idx+1]-nodes[0]))\n",
    "        diff_y.append(y[idx+1]/y[0])\n",
    "plt.loglog(diff_y,diff_nodes)"
   ]
  },
  {
   "cell_type": "code",
   "execution_count": 48,
   "id": "093b0025",
   "metadata": {},
   "outputs": [
    {
     "data": {
      "text/plain": [
       "([1.9986658242954132,\n",
       "  2.999086495039838,\n",
       "  3.9972377469737714,\n",
       "  4.9969413117266654,\n",
       "  5.991361922651207,\n",
       "  6.975572331889363,\n",
       "  7.959357478688708,\n",
       "  8.996651992979062,\n",
       "  9.915734734061996],\n",
       " [14942, 18814, 20260, 20976, 21344, 21592, 21712, 21794, 21848])"
      ]
     },
     "execution_count": 48,
     "metadata": {},
     "output_type": "execute_result"
    }
   ],
   "source": [
    "diff_y,diff_nodes"
   ]
  },
  {
   "cell_type": "code",
   "execution_count": 46,
   "id": "ca3ef358",
   "metadata": {},
   "outputs": [
    {
     "name": "stdout",
     "output_type": "stream",
     "text": [
      "Slope: 0.20781144633783172, Intercept: 9.566980890304398, R^2: 0.8094265433982318\n"
     ]
    }
   ],
   "source": [
    "from scipy.stats import linregress\n",
    "\n",
    "# Fit a linear line to nodes (x) and y (y)\n",
    "slope, intercept, r_value, p_value, std_err = linregress(np.log(diff_y), np.log(diff_nodes))\n",
    "print(f\"Slope: {slope}, Intercept: {intercept}, R^2: {r_value**2}\")"
   ]
  },
  {
   "cell_type": "markdown",
   "id": "527c0fdb",
   "metadata": {},
   "source": [
    "## L-test"
   ]
  },
  {
   "cell_type": "code",
   "execution_count": 1,
   "id": "ab1a6d87",
   "metadata": {},
   "outputs": [
    {
     "name": "stdout",
     "output_type": "stream",
     "text": [
      "===========================================================================\n",
      " BARON version 25.3.19. Built: OSX-64 2025-03-19 22:00:43         \n",
      " Running on machine Jingzhis-MacBook-Air.local\n",
      "\n",
      " BARON is a product of The Optimization Firm.\n",
      " For information on BARON, see https://minlp.com/about-baron\n",
      " Licensee: Jingzhi Yang at Georgia Institute of Technology, jyang872@gatech.edu.\n",
      "\n",
      " If you publish work using this software, please cite publications from\n",
      " https://minlp.com/baron-publications, such as: \n",
      "\n",
      " Zhang, Y. and N. V. Sahinidis, Solving continuous and discrete\n",
      " nonlinear programs with BARON, Comput Optim Appl (2024). \n",
      " https://doi.org/10.1007/s10589-024-00633-0\n",
      "===========================================================================\n",
      " This BARON run may utilize the following subsolver(s)\n",
      " For LP/MIP/QP: CLP/CBC                                         \n",
      " For NLP: FILTERSQP\n",
      "===========================================================================\n",
      " Doing local search\n",
      " Preprocessing found feasible solution with value 1260.00\n",
      " Solving bounding LP\n",
      " Starting multi-start local search\n",
      " Preprocessing found feasible solution with value -1206.14\n",
      " Done with local search\n",
      "===========================================================================\n",
      "  Iteration       Time (s)     Mem   Lower bound     Upper bound   Progress\n",
      "          1           0.23    26MB    -1338.25        -1206.14       60.06%\n",
      "*         6           0.53    82MB    -1338.25        -1333.42       76.69%\n",
      "*        13           3.63    82MB    -1338.25        -1338.25       76.69%\n",
      "         13           3.63    82MB    -1338.25        -1338.25      100.00%\n",
      "\n",
      "                         *** Normal completion ***            \n",
      "\n",
      " Wall clock time:                     3.66\n",
      " Total CPU time used:                 3.63\n",
      "\n",
      " Total no. of BaR iterations:      13\n",
      " Best solution found at node:      13\n",
      " Max. no. of nodes in memory:       7\n",
      "\n",
      " All done\n",
      "===========================================================================\n"
     ]
    },
    {
     "data": {
      "text/plain": [
       "{'Problem': [{'Name': 'problem', 'Lower bound': -1338.2471283376399, 'Upper bound': -1338.2471283376399, 'Number of objectives': 1, 'Number of constraints': 433, 'Number of variables': 394, 'Sense': 'unknown', 'Missing bounds': '0', 'Iterations': '13', 'Node opt': '13', 'Node memmax': '7', 'Cpu time': 3.62, 'Wall time': 3.66}], 'Solver': [{'Status': 'ok', 'Termination condition': 'optimal', 'Root node time': 0.23, 'Error rc': 0, 'Time': 3.9114370346069336}], 'Solution': [OrderedDict({'number of solutions': 0, 'number of solutions displayed': 0})]}"
      ]
     },
     "execution_count": 1,
     "metadata": {},
     "output_type": "execute_result"
    }
   ],
   "source": [
    "from pyomo.environ import *\n",
    "from pyomo.core.expr.calculus.derivatives import differentiate\n",
    "from src.models.cz_model import CaoZavalaModel, CaoZavalaAlgo\n",
    "from src.analyses.convergence_analysis import HausdorffAnalyzer\n",
    "import dill\n",
    "\n",
    "# from NSPLIB.src.instances.process.process_SP import const_model  #infeasible direction d lemma 5 failed\n",
    "# sto_m = const_model()\n",
    "# m = CaoZavalaModel.from_sto_m(sto_m)\n",
    "# m.build()\n",
    "\n",
    "# from NSPLIB.src.instances.ex8_4_4.ex8_4_4_SP import const_model   #0 purely equality constraints Proporisiton 2 in Kannan paper failed\n",
    "# sto_m = const_model()\n",
    "# m = CaoZavalaModel.from_sto_m(sto_m)\n",
    "# m.build()\n",
    "\n",
    "from NSPLIB.src.instances.pooling_contract_selection.pooling import const_model #0.7 satisfies the conditions of Proposition 2 in Kannan paper\n",
    "sto_m = const_model()\n",
    "m = CaoZavalaModel.from_sto_m(sto_m)\n",
    "m.build()\n",
    "binary_ys = ['lambd[1]', 'lambd[2]', 'lambd[3]', 'lambd[4]', 'lambd[5]', 'theta[1]', 'theta[2]', 'theta[3]', 'theta[4]']\n",
    "\n",
    "binary_y_val = {y: 0 for y in binary_ys}\n",
    "binary_y_val['lambd[1]'] = 1\n",
    "binary_y_val['lambd[2]'] = 1\n",
    "binary_y_val['lambd[5]'] = 1\n",
    "binary_y_val['theta[1]'] = 1\n",
    "binary_y_val['theta[4]'] = 1\n",
    "m.fix_binary_y(binary_y_val)\n",
    "\n",
    "\n",
    "# from NSPLIB.src.instances.crude_selection.crude_selection import const_model #infeasible direction d lemma 5 failed\n",
    "# sto_m = const_model()\n",
    "# m = CaoZavalaModel.from_sto_m(sto_m)\n",
    "# m.build()\n",
    "# binary_ys = [f'pickCrude[{i}]' for i in range(1, 10 + 1)]\n",
    "# binary_y_val = {y: 0 for y in binary_ys}\n",
    "# binary_y_val['pickCrude[2]'] = 1\n",
    "# binary_y_val['pickCrude[3]'] = 1\n",
    "# binary_y_val['pickCrude[4]'] = 1\n",
    "# binary_y_val['pickCrude[8]'] = 1\n",
    "# binary_y_val['pickCrude[10]'] = 1\n",
    "# m.fix_binary_y(binary_y_val)\n",
    "# updated_y_bound=m.y_bound\n",
    "# updated_y_bound['crudeQuantity[1]']=(0,0)\n",
    "# updated_y_bound['crudeQuantity[5]']=(0,0)\n",
    "# updated_y_bound['crudeQuantity[6]']=(0,0)\n",
    "# updated_y_bound['crudeQuantity[7]']=(0,0)\n",
    "# updated_y_bound['crudeQuantity[9]']=(0,0)\n",
    "# m.update_y_bound(updated_y_bound)\n",
    "\n",
    "from pyomo.opt import SolverFactory\n",
    "solver = SolverFactory('baron')\n",
    "#solver.options['AbsConFeasTol'] = 1e-12\n",
    "solver.solve(m.origin_model,tee=True)\n"
   ]
  },
  {
   "cell_type": "code",
   "execution_count": 2,
   "id": "e3fc65d2",
   "metadata": {},
   "outputs": [],
   "source": [
    "from pyomo.core.expr.relational_expr import EqualityExpression, InequalityExpression\n",
    "constraints = [c for c in m.origin_model.component_objects(Constraint, active=True)]\n",
    "first_names=list(m.origin_model.y.keys())\n",
    "equality_constraints = []\n",
    "active_inequality_constraints = []\n",
    "# if variable value is none set it to 0 to compute the Jacobian correctly\n",
    "for v in m.origin_model.component_data_objects(Var, descend_into=True, active=True):\n",
    "    if v.value is None:\n",
    "        v.set_value(0)\n",
    "# Collect equality and active inequality constraints into two dictionaries\n",
    "for c in constraints:\n",
    "    expr = c.expr\n",
    "    if isinstance(expr, EqualityExpression):\n",
    "        equality_constraints.append(c.name)\n",
    "    elif isinstance(expr, InequalityExpression):\n",
    "        if c.lower is None and abs(value(c)-value(c.upper))<1e-8:\n",
    "            active_inequality_constraints.append(c.name)\n",
    "        elif c.upper is None and abs(value(c)-value(c.lower))<1e-8:\n",
    "            active_inequality_constraints.append(c.name)\n",
    "        elif c.lower is not None and c.upper is not None:\n",
    "            if abs(value(c)-value(c.lower))<1e-8 or abs(value(c)-value(c.upper))<1e-8:\n",
    "                active_inequality_constraints.append(c.name)\n",
    "\n",
    "jacobian_equality = {}\n",
    "jacobian_inequality = {}\n",
    "# Compute the Jacobian of equality constraints with respect to m.origin_model.y\n",
    "for cname in equality_constraints:\n",
    "    c_obj = m.origin_model.find_component(cname)\n",
    "    jacobian_equality[cname] = []\n",
    "    for vname in first_names:\n",
    "        var = m.origin_model.y[vname]\n",
    "        # For indexed constraints, differentiate each index\n",
    "        expr = c_obj.expr.args[0]\n",
    "        deriv = differentiate(expr, wrt=var)\n",
    "        expr = c_obj.expr.args[1]\n",
    "        deriv -= differentiate(expr, wrt=var)\n",
    "        jacobian_equality[cname].append((vname, deriv))\n",
    "\n",
    "# Compute the Jacobian of active inequality constraints with respect to m.origin_model.y\n",
    "for cname in active_inequality_constraints:\n",
    "    c_obj = m.origin_model.find_component(cname)\n",
    "    jacobian_inequality[cname] = []\n",
    "    for vname in first_names:\n",
    "        var = m.origin_model.y[vname]\n",
    "        # For indexed constraints, differentiate each index\n",
    "        expr = c_obj.expr.args[0]\n",
    "        deriv = differentiate(expr, wrt=var)\n",
    "        expr = c_obj.expr.args[1]\n",
    "        deriv -= differentiate(expr, wrt=var)\n",
    "        jacobian_inequality[cname].append((vname, deriv))\n",
    "        \n",
    "# Compute the Jacobian of the objective function with respect to m.origin_model.y\n",
    "objective_expr = m.origin_model.obj.expr\n",
    "jacobian_obj = []\n",
    "for vname in first_names:\n",
    "    var = m.origin_model.y[vname]\n",
    "    deriv = differentiate(objective_expr, wrt=var)\n",
    "    jacobian_obj.append((vname, deriv))\n"
   ]
  },
  {
   "cell_type": "code",
   "execution_count": 3,
   "id": "e50c509f",
   "metadata": {},
   "outputs": [
    {
     "name": "stdout",
     "output_type": "stream",
     "text": [
      "===========================================================================\n",
      " BARON version 25.3.19. Built: OSX-64 2025-03-19 22:00:43         \n",
      " Running on machine Jingzhis-MacBook-Air.local\n",
      "\n",
      " BARON is a product of The Optimization Firm.\n",
      " For information on BARON, see https://minlp.com/about-baron\n",
      " Licensee: Jingzhi Yang at Georgia Institute of Technology, jyang872@gatech.edu.\n",
      "\n",
      " If you publish work using this software, please cite publications from\n",
      " https://minlp.com/baron-publications, such as: \n",
      "\n",
      " Zhang, Y. and N. V. Sahinidis, Solving continuous and discrete\n",
      " nonlinear programs with BARON, Comput Optim Appl (2024). \n",
      " https://doi.org/10.1007/s10589-024-00633-0\n",
      "===========================================================================\n",
      " This BARON run may utilize the following subsolver(s)\n",
      " For LP/MIP/QP: CLP/CBC                                         \n",
      " For NLP: FILTERSQP\n",
      "===========================================================================\n",
      " Preprocessing found feasible solution with value 0.700000\n",
      " Problem solved during preprocessing\n",
      " Lower bound is   0.700000\n",
      "\n",
      "                         *** Normal completion ***            \n",
      "\n",
      " Wall clock time:                     0.01\n",
      " Total CPU time used:                 0.01\n",
      "\n",
      " Total no. of BaR iterations:      -1\n",
      " Best solution found at node:      -1\n",
      " Max. no. of nodes in memory:       0\n",
      "\n",
      " All done\n",
      "===========================================================================\n"
     ]
    },
    {
     "data": {
      "text/plain": [
       "{'Problem': [{'Name': 'problem', 'Lower bound': 0.7, 'Upper bound': 0.7, 'Number of objectives': 1, 'Number of constraints': 395, 'Number of variables': 19, 'Sense': 'unknown', 'Missing bounds': '0', 'Iterations': '-1', 'Node opt': '-1', 'Node memmax': '0', 'Cpu time': 0.0, 'Wall time': 0.0}], 'Solver': [{'Status': 'ok', 'Termination condition': 'optimal', 'Root node time': -100, 'Error rc': 0, 'Time': 0.053809165954589844}], 'Solution': [OrderedDict({'number of solutions': 0, 'number of solutions displayed': 0})]}"
      ]
     },
     "execution_count": 3,
     "metadata": {},
     "output_type": "execute_result"
    }
   ],
   "source": [
    "from pyomo.environ import ConcreteModel, Var\n",
    "\n",
    "# Create a new Pyomo model\n",
    "model = ConcreteModel()\n",
    "\n",
    "# Use the same index and dimension as m.origin_model.y\n",
    "model.d = Var(m.origin_model.y.index_set())\n",
    "model.sum_abs_constraint = Constraint(expr=sum(abs(model.d[i]) for i in model.d.index_set()) == 1)\n",
    "\n",
    "#  check if global solution lies on variable bound\n",
    "for key in m.origin_model.y:\n",
    "    var = m.origin_model.y[key]\n",
    "    lb = var.lb\n",
    "    ub = var.ub\n",
    "    val = var.value\n",
    "    # Check if variable is binary\n",
    "    if var.is_binary():\n",
    "        model.add_component(key, Constraint(expr=model.d[key] == 0))\n",
    "        continue\n",
    "    if lb is not None and abs(val - lb) < 1e-8:\n",
    "        model.add_component(f\"Lower_Bound_{key}\", Constraint(expr=model.d[key] >= 0))\n",
    "    if ub is not None and abs(val - ub) < 1e-8:\n",
    "        model.add_component(f\"Upper_Bound_{key}\", Constraint(expr=model.d[key] <= 0))\n",
    "\n",
    "# create constraint for each jacobian_equality\n",
    "for cname, jacobian in jacobian_equality.items():\n",
    "    \n",
    "    model.add_component(cname, Constraint(expr=sum(jacobian[i][1] * model.d[jacobian[i][0]] for i in range(len(jacobian))) == 0))\n",
    "for cname, jacobian in jacobian_inequality.items():\n",
    "    model.add_component(cname, Constraint(expr=sum(jacobian[i][1] * model.d[jacobian[i][0]] for i in range(len(jacobian))) <= 0))\n",
    "# Add objective function using jacobian_obj\n",
    "model.obj = Objective(expr=sum(jacobian_obj[i][1] * model.d[jacobian_obj[i][0]] for i in range(len(jacobian_obj))), sense=minimize)\n",
    "\n",
    "from pyomo.opt import SolverFactory\n",
    "solver = SolverFactory('baron')\n",
    "solver.solve(model, tee=True)"
   ]
  },
  {
   "cell_type": "code",
   "execution_count": 4,
   "id": "1ef6a6df",
   "metadata": {},
   "outputs": [
    {
     "name": "stdout",
     "output_type": "stream",
     "text": [
      "d : Size=18, Index={S[1], S[2], S[3], S[4], A[1], A[2], A[3], A[4], A[5], lambd[1], lambd[2], lambd[3], lambd[4], lambd[5], theta[1], theta[2], theta[3], theta[4]}\n",
      "    Key      : Lower : Value : Upper : Fixed : Stale : Domain\n",
      "        A[1] :  None :  -0.0 :  None : False : False :  Reals\n",
      "        A[2] :  None :  -0.0 :  None : False : False :  Reals\n",
      "        A[3] :  None :   0.0 :  None : False : False :  Reals\n",
      "        A[4] :  None :   0.0 :  None : False : False :  Reals\n",
      "        A[5] :  None :   1.0 :  None : False : False :  Reals\n",
      "        S[1] :  None :  -0.0 :  None : False : False :  Reals\n",
      "        S[2] :  None :   0.0 :  None : False : False :  Reals\n",
      "        S[3] :  None :   0.0 :  None : False : False :  Reals\n",
      "        S[4] :  None :  -0.0 :  None : False : False :  Reals\n",
      "    lambd[1] :  None :   0.0 :  None : False : False :  Reals\n",
      "    lambd[2] :  None :   0.0 :  None : False : False :  Reals\n",
      "    lambd[3] :  None :   0.0 :  None : False : False :  Reals\n",
      "    lambd[4] :  None :   0.0 :  None : False : False :  Reals\n",
      "    lambd[5] :  None :   0.0 :  None : False : False :  Reals\n",
      "    theta[1] :  None :  -0.0 :  None : False : False :  Reals\n",
      "    theta[2] :  None :  -0.0 :  None : False : False :  Reals\n",
      "    theta[3] :  None :  -0.0 :  None : False : False :  Reals\n",
      "    theta[4] :  None :  -0.0 :  None : False : False :  Reals\n"
     ]
    }
   ],
   "source": [
    "model.d.display()"
   ]
  },
  {
   "cell_type": "code",
   "execution_count": 5,
   "id": "ce9e212e",
   "metadata": {},
   "outputs": [
    {
     "name": "stdout",
     "output_type": "stream",
     "text": [
      "Constraint coefficient matrix shape: (162, 18)\n"
     ]
    }
   ],
   "source": [
    "import numpy as np\n",
    "\n",
    "# Combine all constraint names and their Jacobians\n",
    "all_jacobians = []\n",
    "all_constraint_names = []\n",
    "\n",
    "for cname, jac in jacobian_equality.items():\n",
    "    all_jacobians.append([coef for _, coef in jac])\n",
    "    all_constraint_names.append(cname)\n",
    "# for cname, jac in jacobian_inequality.items():\n",
    "#     all_jacobians.append([coef for _, coef in jac])\n",
    "#     all_constraint_names.append(cname)\n",
    "\n",
    "# Stack into a matrix (rows: constraints, columns: variables in first_names)\n",
    "A = np.array(all_jacobians)\n",
    "print(\"Constraint coefficient matrix shape:\", A.shape)"
   ]
  },
  {
   "cell_type": "code",
   "execution_count": 6,
   "id": "f1714fdc",
   "metadata": {},
   "outputs": [
    {
     "name": "stdout",
     "output_type": "stream",
     "text": [
      "Shape of A with only independent rows: (4, 18)\n"
     ]
    }
   ],
   "source": [
    "from numpy.linalg import matrix_rank\n",
    "\n",
    "# Find linearly independent rows of A\n",
    "def get_independent_rows(A):\n",
    "    independent_rows = []\n",
    "    current_rows = []\n",
    "    for i in range(A.shape[0]):\n",
    "        test_rows = current_rows + [A[i]]\n",
    "        if matrix_rank(np.vstack(test_rows)) > len(current_rows):\n",
    "            independent_rows.append(i)\n",
    "            current_rows.append(A[i])\n",
    "    return np.array(independent_rows)\n",
    "\n",
    "independent_row_indices = get_independent_rows(A)\n",
    "A_independent = A[independent_row_indices]\n",
    "print(\"Shape of A with only independent rows:\", A_independent.shape)"
   ]
  },
  {
   "cell_type": "code",
   "execution_count": 7,
   "id": "3868a4d1",
   "metadata": {},
   "outputs": [
    {
     "data": {
      "text/plain": [
       "array([[ 0,  0,  0,  0,  0,  0,  0,  0,  0,  0,  0,  0,  0,  0, -1,  0,\n",
       "         0,  0],\n",
       "       [ 0,  0,  0,  0,  0,  0,  0,  0,  0,  0,  0,  0,  0,  0,  0, -1,\n",
       "         0,  0],\n",
       "       [ 0,  0,  0,  0,  0,  0,  0,  0,  0,  0,  0,  0,  0,  0,  0,  0,\n",
       "        -1,  0],\n",
       "       [ 0,  0,  0,  0,  0,  0,  0,  0,  0,  0,  0,  0,  0,  0,  0,  0,\n",
       "         0, -1]])"
      ]
     },
     "execution_count": 7,
     "metadata": {},
     "output_type": "execute_result"
    }
   ],
   "source": [
    "A_independent"
   ]
  }
 ],
 "metadata": {
  "kernelspec": {
   "display_name": "pyomo",
   "language": "python",
   "name": "python3"
  },
  "language_info": {
   "codemirror_mode": {
    "name": "ipython",
    "version": 3
   },
   "file_extension": ".py",
   "mimetype": "text/x-python",
   "name": "python",
   "nbconvert_exporter": "python",
   "pygments_lexer": "ipython3",
   "version": "3.12.2"
  }
 },
 "nbformat": 4,
 "nbformat_minor": 5
}
