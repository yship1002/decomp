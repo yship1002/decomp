{
 "cells": [
  {
   "cell_type": "code",
   "execution_count": null,
   "id": "5d02a48a",
   "metadata": {},
   "outputs": [],
   "source": [
    "import ipywidgets as widgets\n",
    "from IPython.display import display, Javascript\n",
    "\n",
    "# Mapping: Display name → Notebook file path\n",
    "notebook_dict = {\n",
    "    \"Node Analysis\": \"graphing/node_analysis.ipynb\",\n",
    "    \"Crude Selection\": \"notebooks/crude_selection.ipynb\",\n",
    "    \"Pooling Study\": \"notebooks/pooling.ipynb\",\n",
    "    \"Process Simulation\": \"notebooks/process.ipynb\"\n",
    "}\n",
    "\n",
    "dropdown = widgets.Dropdown(\n",
    "    options=notebook_dict,\n",
    "    description=\"Notebook:\",\n",
    "    layout=widgets.Layout(width='70%')\n",
    ")\n",
    "\n",
    "launch_button = widgets.Button(description=\"Open in Voila\", button_style='success')\n",
    "\n",
    "def on_click(b):\n",
    "    target = dropdown.value\n",
    "    js_code = f\"\"\"\n",
    "    window.location.href = window.location.origin + window.location.pathname.replace(/[^/]+$/, '') + '{target}';\n",
    "    \"\"\"\n",
    "    display(Javascript(js_code))\n",
    "\n",
    "launch_button.on_click(on_click)\n",
    "\n",
    "display(dropdown, launch_button)\n"
   ]
  }
 ],
 "metadata": {
  "kernelspec": {
   "display_name": "pyomo",
   "language": "python",
   "name": "python3"
  },
  "language_info": {
   "name": "python",
   "version": "3.12.2"
  }
 },
 "nbformat": 4,
 "nbformat_minor": 5
}
